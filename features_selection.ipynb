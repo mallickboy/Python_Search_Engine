{
 "cells": [
  {
   "cell_type": "code",
   "execution_count": 26,
   "metadata": {},
   "outputs": [],
   "source": [
    "set1={'a':1,'b':1,'c':1,'d':1}\n",
    "set1['e']=2\n"
   ]
  },
  {
   "cell_type": "code",
   "execution_count": 27,
   "metadata": {},
   "outputs": [
    {
     "data": {
      "text/plain": [
       "{'a': 1, 'b': 1, 'c': 1, 'd': 1, 'e': 2}"
      ]
     },
     "execution_count": 27,
     "metadata": {},
     "output_type": "execute_result"
    }
   ],
   "source": [
    "set1"
   ]
  },
  {
   "cell_type": "code",
   "execution_count": 30,
   "metadata": {},
   "outputs": [
    {
     "name": "stdout",
     "output_type": "stream",
     "text": [
      "present\n"
     ]
    },
    {
     "data": {
      "text/plain": [
       "{'a': 1, 'b': 1, 'c': 1, 'd': 1, 'e': 2, 'f': 1}"
      ]
     },
     "execution_count": 30,
     "metadata": {},
     "output_type": "execute_result"
    }
   ],
   "source": [
    "if set1.get('f'):\n",
    "    print(\"present\")\n",
    "else:\n",
    "    set1['f'] = 1\n",
    "set1"
   ]
  },
  {
   "cell_type": "code",
   "execution_count": 37,
   "metadata": {},
   "outputs": [
    {
     "data": {
      "text/plain": [
       "{'a', 'b', 'c', 'd', 'e', 'f', 'f2'}"
      ]
     },
     "execution_count": 37,
     "metadata": {},
     "output_type": "execute_result"
    }
   ],
   "source": [
    "set2={'a','b','c','d'}\n",
    "set2=set2.union('e')\n",
    "if 'f' in set2:\n",
    "    print(\"present\")\n",
    "else:\n",
    "    # Add 'f' to set2\n",
    "    set2.add('f')\n",
    "set2.add('f')\n",
    "set2.add('f')\n",
    "set2"
   ]
  },
  {
   "cell_type": "code",
   "execution_count": 41,
   "metadata": {},
   "outputs": [
    {
     "data": {
      "text/plain": [
       "[('hiiii', 0)]"
      ]
     },
     "execution_count": 41,
     "metadata": {},
     "output_type": "execute_result"
    }
   ],
   "source": [
    "url=\"hiiii\"\n",
    "q=[(url,0)]\n",
    "q"
   ]
  },
  {
   "cell_type": "code",
   "execution_count": 1,
   "metadata": {},
   "outputs": [
    {
     "data": {
      "text/plain": [
       "13901"
      ]
     },
     "execution_count": 1,
     "metadata": {},
     "output_type": "execute_result"
    }
   ],
   "source": [
    "import pandas as pd\n",
    "df=pd.read_json('./files_bot/all_d0.json')\n",
    "len(df)\n"
   ]
  },
  {
   "cell_type": "code",
   "execution_count": 73,
   "metadata": {},
   "outputs": [
    {
     "data": {
      "text/plain": [
       "231"
      ]
     },
     "execution_count": 73,
     "metadata": {},
     "output_type": "execute_result"
    }
   ],
   "source": [
    "df2=pd.read_csv('./python_tutorial_links.txt', header=None)\n",
    "link_set=[]\n",
    "for link in df2:\n",
    "    link_set.append(df2[link][0])\n",
    "    # print(link)\n",
    "len(link_set)\n",
    "\n"
   ]
  },
  {
   "cell_type": "code",
   "execution_count": null,
   "metadata": {},
   "outputs": [],
   "source": [
    "from googlesearch import search\n",
    "\n",
    "# Define the search query\n",
    "query = \"java Tutorial\"\n",
    "\n",
    "# Perform the Google search and retrieve the top 1000 links\n",
    "search_results = search(query, num=100, stop=2000, pause=2)\n",
    "\n",
    "# Define the file name to save the links\n",
    "file_name = \"java.txt\"\n",
    "\n",
    "# Write the links to the file separated by comma\n",
    "with open(file_name, \"w\") as file:\n",
    "    for idx, link in enumerate(search_results, start=1):\n",
    "        file.write(link)\n",
    "        if idx < 1000:  # Add comma except for the last link\n",
    "            file.write(',')\n"
   ]
  },
  {
   "cell_type": "code",
   "execution_count": 106,
   "metadata": {},
   "outputs": [
    {
     "name": "stdout",
     "output_type": "stream",
     "text": [
      "40957 4990 4990 5972\n"
     ]
    },
    {
     "data": {
      "text/plain": [
       "40961"
      ]
     },
     "execution_count": 106,
     "metadata": {},
     "output_type": "execute_result"
    }
   ],
   "source": [
    "\n",
    "def add_to_set(path,get_label):\n",
    "    res=set()\n",
    "    data=pd.read_json(path)\n",
    "    # print(data['link'])\n",
    "    for index,row in data.iterrows():\n",
    "        res.add(row[get_label])\n",
    "    return res\n",
    "d3=add_to_set('./new_data/geeks_for_geeks_d3_41k.json','link')\n",
    "d2=add_to_set('./new_data/geeks_for_geeks_depth2.json','url')\n",
    "d5=add_to_set('./new_data/geeks_for_geeks_depth5.json','link')\n",
    "d5n=add_to_set('./new_data/geeks_for_geeks_depth5_new.json','link')\n",
    "print(len(d3),len(d2),len(d5),len(d5n))\n",
    "d23=d3.union(d2)\n",
    "d235=d23.union(d5)\n",
    "d235n=d235.union(d5n)\n",
    "len(d235n)"
   ]
  },
  {
   "cell_type": "code",
   "execution_count": 137,
   "metadata": {},
   "outputs": [
    {
     "name": "stdout",
     "output_type": "stream",
     "text": [
      "Potential error detected: not found\n",
      "SKIP\n"
     ]
    }
   ],
   "source": [
    "import requests\n",
    "\n",
    "url = \"https://www.javatpoint.com/python-tutorialpython-selective-keys-summation\"\n",
    "reqs = requests.get(url)\n",
    "\n",
    "def check_page_validity(reqs):\n",
    "    if not (200 <= reqs.status_code < 400):\n",
    "        print(f\"HTTP Error {reqs.status_code}: {url}\") \n",
    "        return False\n",
    "    else:\n",
    "        error_keywords = [\"error\", \"not found\", \"page not found\",\"invalid\",\"404\"]  # Customize based on your needs\n",
    "\n",
    "        for keyword in error_keywords:\n",
    "            if keyword in reqs.text.lower():\n",
    "                print(f\"Potential error detected: {keyword}\")\n",
    "                return False\n",
    "    return True\n",
    "\n",
    "if not check_page_validity(reqs):\n",
    "    print(\"SKIP\")"
   ]
  }
 ],
 "metadata": {
  "kernelspec": {
   "display_name": "search_engine",
   "language": "python",
   "name": "python3"
  },
  "language_info": {
   "codemirror_mode": {
    "name": "ipython",
    "version": 3
   },
   "file_extension": ".py",
   "mimetype": "text/x-python",
   "name": "python",
   "nbconvert_exporter": "python",
   "pygments_lexer": "ipython3",
   "version": "3.11.4"
  }
 },
 "nbformat": 4,
 "nbformat_minor": 2
}
