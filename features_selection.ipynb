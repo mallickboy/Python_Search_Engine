{
 "cells": [
  {
   "cell_type": "code",
   "execution_count": 26,
   "metadata": {},
   "outputs": [],
   "source": [
    "set1={'a':1,'b':1,'c':1,'d':1}\n",
    "set1['e']=2\n"
   ]
  },
  {
   "cell_type": "code",
   "execution_count": 27,
   "metadata": {},
   "outputs": [
    {
     "data": {
      "text/plain": [
       "{'a': 1, 'b': 1, 'c': 1, 'd': 1, 'e': 2}"
      ]
     },
     "execution_count": 27,
     "metadata": {},
     "output_type": "execute_result"
    }
   ],
   "source": [
    "set1"
   ]
  },
  {
   "cell_type": "code",
   "execution_count": 30,
   "metadata": {},
   "outputs": [
    {
     "name": "stdout",
     "output_type": "stream",
     "text": [
      "present\n"
     ]
    },
    {
     "data": {
      "text/plain": [
       "{'a': 1, 'b': 1, 'c': 1, 'd': 1, 'e': 2, 'f': 1}"
      ]
     },
     "execution_count": 30,
     "metadata": {},
     "output_type": "execute_result"
    }
   ],
   "source": [
    "if set1.get('f'):\n",
    "    print(\"present\")\n",
    "else:\n",
    "    set1['f'] = 1\n",
    "set1"
   ]
  },
  {
   "cell_type": "code",
   "execution_count": 37,
   "metadata": {},
   "outputs": [
    {
     "data": {
      "text/plain": [
       "{'a', 'b', 'c', 'd', 'e', 'f', 'f2'}"
      ]
     },
     "execution_count": 37,
     "metadata": {},
     "output_type": "execute_result"
    }
   ],
   "source": [
    "set2={'a','b','c','d'}\n",
    "set2=set2.union('e')\n",
    "if 'f' in set2:\n",
    "    print(\"present\")\n",
    "else:\n",
    "    # Add 'f' to set2\n",
    "    set2.add('f')\n",
    "set2.add('f')\n",
    "set2.add('f')\n",
    "set2"
   ]
  },
  {
   "cell_type": "code",
   "execution_count": 41,
   "metadata": {},
   "outputs": [
    {
     "data": {
      "text/plain": [
       "[('hiiii', 0)]"
      ]
     },
     "execution_count": 41,
     "metadata": {},
     "output_type": "execute_result"
    }
   ],
   "source": [
    "url=\"hiiii\"\n",
    "q=[(url,0)]\n",
    "q"
   ]
  },
  {
   "cell_type": "code",
   "execution_count": 6,
   "metadata": {},
   "outputs": [
    {
     "data": {
      "text/plain": [
       "0"
      ]
     },
     "execution_count": 6,
     "metadata": {},
     "output_type": "execute_result"
    }
   ],
   "source": [
    "import pandas as pd\n",
    "df=pd.read_json('./new_data/javatpoint.json')\n",
    "len(df)\n"
   ]
  },
  {
   "cell_type": "code",
   "execution_count": 8,
   "metadata": {},
   "outputs": [
    {
     "data": {
      "text/plain": [
       "['https://docs.python.org/3/tutorial/index.html',\n",
       " 'https://docs.python.org/3/tutorial/appetite.html',\n",
       " 'https://docs.python.org/3/tutorial/introduction.html',\n",
       " 'https://docs.python.org/3/tutorial/datastructures.html',\n",
       " 'https://www.w3schools.com/python/',\n",
       " 'https://www.w3schools.com/python/python_intro.asp',\n",
       " 'https://www.w3schools.com/python/python_lists.asp',\n",
       " 'https://www.w3schools.com/python/python_classes.asp',\n",
       " 'https://www.w3schools.com/python/python_strings.asp',\n",
       " 'https://www.tutorialspoint.com/python/index.htm',\n",
       " 'https://www.tutorialspoint.com/python/index.htm#python_jobs',\n",
       " 'https://www.tutorialspoint.com/python/index.htm#why_python',\n",
       " 'https://www.tutorialspoint.com/python/index.htm#python_interpreter',\n",
       " 'https://www.tutorialspoint.com/python/index.htm#applications',\n",
       " 'https://www.python.org/about/gettingstarted/',\n",
       " 'https://www.geeksforgeeks.org/python-programming-language/',\n",
       " 'https://www.pythontutorial.net/',\n",
       " 'https://www.programiz.com/python-programming',\n",
       " 'https://www.javatpoint.com/python-tutorial',\n",
       " 'https://www.youtube.com/watch?v=_uQrJ0TkZlc',\n",
       " 'https://www.learnpython.org/',\n",
       " 'https://www.simplilearn.com/tutorials/python-tutorial',\n",
       " 'https://www.youtube.com/watch?v=kqtD5dpn9C8',\n",
       " 'https://www.youtube.com/playlist?list=PLu0W_9lII9agwh1XjRt242xIpHhPT2llg',\n",
       " 'https://code.visualstudio.com/docs/python/python-tutorial',\n",
       " 'https://www.geeksforgeeks.org/python-programming-language/learn-python-tutorial/',\n",
       " 'https://realpython.com/',\n",
       " 'https://mode.com/python-tutorial/',\n",
       " 'https://www.kaggle.com/learn/python',\n",
       " 'https://www.youtube.com/watch?v=qwAFL1597eM',\n",
       " 'https://www.codecademy.com/learn/learn-python',\n",
       " 'https://intellipaat.com/blog/tutorial/python-tutorial/',\n",
       " 'https://python.land/python-tutorial',\n",
       " 'https://www.python.org/doc/',\n",
       " 'https://www.youtube.com/playlist?list=PLsyeobzWxl7poL9JTVyndKe62ieoN-MZ3',\n",
       " 'https://www.scaler.com/topics/python/',\n",
       " 'https://www.youtube.com/watch?v=H2EJuAcrZYU',\n",
       " 'https://docs.python.org/3/tutorial/classes.html',\n",
       " 'https://www.almabetter.com/bytes/tutorials/python',\n",
       " 'https://realpython.com/tutorials/all/',\n",
       " 'https://www.codecademy.com/catalog/language/python',\n",
       " 'https://docs.python-guide.org/intro/learning/',\n",
       " 'https://www.youtube.com/watch?v=t8pPdKYpowI',\n",
       " 'https://www.knowledgehut.com/tutorials/python-tutorial',\n",
       " 'https://www.ccbp.in/blog/python-tutorial',\n",
       " 'https://www.studytonight.com/python/',\n",
       " 'https://www.tutorialsfreak.com/python-tutorial',\n",
       " 'https://docs.python.org/3/tutorial/controlflow.html',\n",
       " 'https://www.w3resource.com/python/python-tutorial.php',\n",
       " 'https://www.datacamp.com/tutorial/python',\n",
       " 'https://python-course.eu/',\n",
       " 'https://pythonbasics.org/',\n",
       " 'https://www.analyticsvidhya.com/blog/2016/01/complete-tutorial-learn-data-science-python-scratch-2/',\n",
       " 'https://www.digitalocean.com/community/tutorials/python-tutorial-beginners',\n",
       " 'https://www.codewithharry.com/tutorial/python/',\n",
       " 'https://www.udemy.com/course/pythonforbeginnersintro/',\n",
       " 'https://www.tutorialsteacher.com/python',\n",
       " 'https://developer.ibm.com/languages/python/tutorials/',\n",
       " 'https://learn.microsoft.com/en-us/training/modules/intro-to-python/',\n",
       " 'https://www.stavros.io/tutorials/python/',\n",
       " 'https://codersdaily.in/courses/python-tutorial',\n",
       " 'https://stackify.com/learn-python-tutorials/',\n",
       " 'https://pynative.com/python/',\n",
       " 'https://python-course.eu/python-tutorial/',\n",
       " 'https://www.learnpython.org/en/Hello',\n",
       " '_World!',\n",
       " 'https://www.datacamp.com/tutorial/category/python',\n",
       " 'https://pythonprogramming.net/',\n",
       " 'https://www.freecodecamp.org/news/learn-python-free-python-courses-for-beginners/',\n",
       " 'https://github.com/Akuli/python-tutorial',\n",
       " 'https://www.digitalocean.com/community/tutorials/python-tutorial',\n",
       " 'https://prepinsta.com/python/',\n",
       " 'https://365datascience.com/tutorials/python-tutorials/learning-python-programming/',\n",
       " 'https://www.youtube.com/watch?v=eWRfhZUzrAc',\n",
       " 'https://www.guru99.com/python-tutorials.html',\n",
       " 'https://www.tnstate.edu/faculty/fyao/COMP3050/Py-tutorial.pdf',\n",
       " 'https://jobtensor.com/Tutorial/Python/en/Introduction',\n",
       " 'https://learn.microsoft.com/en-us/training/paths/beginner-python/',\n",
       " 'https://matplotlib.org/stable/tutorials/index.html',\n",
       " 'https://www.edureka.co/blog/python-tutorial/',\n",
       " 'https://www.udemy.com/course/python-tutorial-for-beginners-ix/',\n",
       " 'https://www.freecodecamp.org/news/the-best-way-to-learn-python-python-programming-tutorial-for-beginners/',\n",
       " 'https://www.softwaretestinghelp.com/python/',\n",
       " 'https://brainstation.io/learn/python',\n",
       " 'https://blog.boot.dev/tutorials/python-tutorial/',\n",
       " 'https://beginnersbook.com/2018/03/python-tutorial-learn-programming/',\n",
       " 'https://pythonprogramming.net/beginner-python-programming-tutorials/',\n",
       " 'https://thepythonguru.com/',\n",
       " 'https://www.programiz.com/python-programming/examples',\n",
       " 'https://www.amazon.in/Introduction-Python-Tutorial-Whats-New/dp/9355423489',\n",
       " 'https://www.mygreatlearning.com/academy/learn-for-free/courses/python-for-beginners-live-course',\n",
       " 'https://www.youtube.com/watch?v=XKHEtdqhLK8',\n",
       " 'https://www.ionos.com/digitalguide/websites/web-development/python-tutorial/',\n",
       " 'https://www.educba.com/software-development/software-development-tutorials/python-tutorial/',\n",
       " \"https://en.wikipedia.org/wiki/b:A%20Beginner's%20Python%20Tutorial\",\n",
       " 'https://www.tutlane.com/tutorial/python',\n",
       " 'https://dotnettutorials.net/course/python-tutorials/',\n",
       " 'https://docs.python.org/',\n",
       " 'https://www.codesdope.com/course/python-introduction/',\n",
       " 'https://mode.com/python-tutorial/python-basics/',\n",
       " 'https://pynative.com/',\n",
       " 'https://www.tutorialkart.com/python/',\n",
       " 'https://data-flair.training/blogs/python-tutorials-home/',\n",
       " 'https://mindmajix.com/python-tutorial',\n",
       " 'https://www.tutorialgateway.org/python-tutorial/',\n",
       " 'https://studyglance.in/python/index.php',\n",
       " 'https://en.wikibooks.org/wiki/Non-Programmer%27s_Tutorial_for_Python_3',\n",
       " 'https://anh.cs.luc.edu/handsonPythonTutorial/',\n",
       " 'https://www.codechef.com/learn/course/python',\n",
       " 'https://techbeamers.com/python-tutorial-step-by-step/',\n",
       " 'https://scikit-learn.org/stable/tutorial/index.html',\n",
       " 'https://www.i2tutorials.com/python-tutorial/',\n",
       " 'https://www.pythontutorial.net/python-basics/',\n",
       " 'https://www.youtube.com/watch?v=7wnove7K-ZQ',\n",
       " 'https://www.bogotobogo.com/python/pytut.php',\n",
       " 'https://www.simplilearn.com/tutorials/python-tutorial/python-functions',\n",
       " 'http://www.java2s.com/Tutorial/Python/CatalogPython.htm',\n",
       " 'https://www.mygreatlearning.com/blog/python-tutorial-for-beginners-a-complete-guide/',\n",
       " 'https://www.tutorialspoint.com/machine_learning_with_python/index.htm',\n",
       " 'https://docs.opencv.org/4.x/d6/d00/tutorial_py_root.html',\n",
       " 'https://data-flair.training/blogs/python-introduction/',\n",
       " 'https://docs.python.org/3/tutorial/modules.html',\n",
       " 'https://community.openweaver.com/t/python-tutorial-for-beginners-learn-python-programming-with-practice-exercises-and-solutions/1554',\n",
       " 'https://www.educative.io/blog/python-tutorial-total-beginner',\n",
       " 'https://www.amazon.in/Python-Tutorial-Guido-Van-Rossum/dp/1680921606',\n",
       " 'https://www.upgrad.com/blog/python-tutorial-for-beginners/',\n",
       " 'https://doc.qt.io/qtforpython-6/tutorials/index.html',\n",
       " 'https://www.youtube.com/watch?v=b093aqAZiPU',\n",
       " 'https://www.pythonforbeginners.com/python-tutorial',\n",
       " 'https://zetcode.com/lang/python/',\n",
       " 'https://studyopedia.com/tutorials/python3/',\n",
       " 'https://www.afterhoursprogramming.com/tutorial/python/python-overview/',\n",
       " 'https://www.kaggle.com/learn',\n",
       " 'https://stackabuse.com/python-tutorial-for-absolute-beginners/',\n",
       " 'https://techvidvan.com/tutorials/python-tutorial/',\n",
       " 'https://cs231n.github.io/python-numpy-tutorial/',\n",
       " 'https://edabit.com/tutorial/python',\n",
       " 'https://scrimba.com/learn/python',\n",
       " 'https://docs.djangoproject.com/en/5.0/intro/tutorial01/',\n",
       " 'https://pythonspot.com/',\n",
       " 'https://platform.openai.com/docs/quickstart',\n",
       " 'https://www.youtube.com/watch?v=rfscVS0vtbw&vl=en',\n",
       " 'https://www.scaler.com/topics/course/python-for-beginners/',\n",
       " 'https://ocw.mit.edu/courses/6-01sc-introduction-to-electrical-engineering-and-computer-science-i-spring-2011/pages/python-tutorial/',\n",
       " 'https://www.studytonight.com/python/getting-started-with-python',\n",
       " 'https://numpy.org/doc/stable/user/quickstart.html',\n",
       " 'https://www.jetbrains.com/help/pycharm/creating-and-running-your-first-python-project.html',\n",
       " 'https://www.flipkart.com/introduction-python-tutorial-what-s-new-3-8-0/p/itm39077610ba9ae',\n",
       " 'https://code.visualstudio.com/docs/languages/python',\n",
       " 'https://dash.plotly.com/tutorial',\n",
       " 'https://protobuf.dev/getting-started/pythontutorial/',\n",
       " 'http://marvin.cs.uidaho.edu/Teaching/CS515/pythonTutorial.pdf',\n",
       " 'https://www.fita.in/python-tutorial/',\n",
       " 'https://www.youtube.com/watch?v=B9nFMZIYQl0',\n",
       " 'https://support.gurobi.com/hc/en-us/articles/17278438215313-Tutorial-Getting-Started-with-the-Gurobi-Python-API',\n",
       " 'https://keras.io/',\n",
       " 'https://pandas.pydata.org/pandas-docs/stable/user_guide/10min.html',\n",
       " 'https://www.reddit.com/r/learnpython/comments/df265b/i_recommend_the_official_python_tutorial_for/',\n",
       " 'https://www.geeksforgeeks.org/videos/python-programming-tutorial-strings-lists-tuples-iterations/',\n",
       " 'https://www.upgrad.com/blog/python-tutorial-learn-python-from-scratch/',\n",
       " 'https://www.youtube.com/watch?v=gfDE2a7MKjA',\n",
       " 'https://learn.sparkfun.com/tutorials/python-programming-tutorial-getting-started-with-the-raspberry-pi/all',\n",
       " 'https://wiki.python.org/moin/BeginnersGuide/Programmers',\n",
       " 'https://docs.scrapy.org/en/latest/intro/tutorial.html',\n",
       " 'https://www.linkedin.com/pulse/getting-started-opencv-python-tutorial-1-himanshu-kanojiya',\n",
       " 'https://www.youtube.com/watch?v=HGOBQPFzWKo',\n",
       " 'https://www.oracletutorial.com/python-oracle/',\n",
       " 'https://www.youtube.com/watch?v=6i3e-j3wSf0',\n",
       " 'https://www.youtube.com/watch?v=ITSMDeOgXxw',\n",
       " 'https://wiki.python.org/moin/BeginnersGuide/NonProgrammers',\n",
       " 'https://www.youtube.com/watch?v=eTyI-M50Hu4',\n",
       " 'https://wiki.python.org/moin/BeginnersGuide',\n",
       " 'https://www.youtube.com/watch?v=Z1Yd7upQsXY',\n",
       " 'https://www.youtube.com/watch?v=EyEqWFvLDT8',\n",
       " 'https://www.python.org/',\n",
       " 'https://www.youtube.com/watch?v=WGJJIrtnfpk',\n",
       " 'https://bugs.python.org/file47781/Tutorial_EDIT.pdf',\n",
       " 'https://www.youtube.com/watch?v=WEm3EUdicDg',\n",
       " 'https://docs.python.org/3/tutorial/errors.html',\n",
       " 'https://www.youtube.com/watch?v=fWedX4IxzN8',\n",
       " 'https://www.youtube.com/watch?v=7eh4d6sabA0',\n",
       " 'https://www.youtube.com/watch?v=ERCMXc8x7mc',\n",
       " 'https://www.youtube.com/watch?v=hEgO047GxaQ',\n",
       " 'https://docs.python.org/3/tutorial/whatnow.html',\n",
       " 'https://www.youtube.com/watch?v=QXeEoD0pB3E&pp=ygUQI3RlbHVndXR1dG9yaWFhbA%3D%3D',\n",
       " 'https://docs.python.org/3/tutorial/inputoutput.html',\n",
       " 'https://www.youtube.com/watch?v=fLAfa-BQtOQ',\n",
       " 'https://www.youtube.com/watch?v=TqPzwenhMj0',\n",
       " 'https://docs.python.org/3/tutorial/floatingpoint.html',\n",
       " 'https://www.youtube.com/watch?v=DWgzHbglNIo',\n",
       " 'https://www.youtube.com/watch?v=yE9v9rt6ziw',\n",
       " 'https://docs.python.org/3/library/turtle.html',\n",
       " 'https://www.youtube.com/watch?v=k9TUPpGqYTo',\n",
       " 'https://docs.python.org/3/tutorial/interpreter.html',\n",
       " 'https://www.youtube.com/watch?v=YfO28Ihehbk',\n",
       " 'https://www.youtube.com/watch?v=HBxCHonP6Ro',\n",
       " 'https://docs.python.org/3/howto/regex.html',\n",
       " 'https://www.youtube.com/watch?v=Eaz5e6M8tL4',\n",
       " 'https://www.youtube.com/watch?v=f79MRyMsjrQ',\n",
       " 'https://docs.python.org/3/howto/logging.html',\n",
       " 'https://www.youtube.com/watch?v=VchuKL44s6E',\n",
       " 'https://docs.python.org/3/library/sqlite3.html',\n",
       " 'https://www.youtube.com/watch?v=9F6zAuYtuFw',\n",
       " 'https://www.youtube.com/watch?v=u-OmVr_fT4s',\n",
       " 'https://docs.python.org/3/tutorial/venv.html',\n",
       " 'https://www.youtube.com/watch?v=BVfCWuca9nw',\n",
       " 'https://docs.python.org/3/download.html',\n",
       " 'https://www.youtube.com/watch?v=YYXdXT2l-Gg',\n",
       " 'https://docs.python.org/es/3/tutorial/',\n",
       " 'https://www.youtube.com/watch?v=P5eKLyDUJBU',\n",
       " 'https://www.youtube.com/watch?v=b76SNj2Dej0',\n",
       " 'https://www.youtube.com/watch?v=2WL-XTl2QYI',\n",
       " 'https://docs.python.org/ja/3/tutorial/',\n",
       " 'https://www.youtube.com/watch?v=Ej_02ICOIgs',\n",
       " 'https://www.youtube.com/watch?v=XZPoj64ZamA',\n",
       " 'https://www.youtube.com/watch?v=aequTxAvQq4',\n",
       " 'https://www.youtube.com/watch?v=_tS2-swQGPs',\n",
       " 'https://www.youtube.com/watch?v=mnlq--dsjyA',\n",
       " 'https://www.youtube.com/watch?v=psTOlej9Rpk',\n",
       " 'https://www.youtube.com/watch?v=e9p0_NB3WrM',\n",
       " 'https://www.youtube.com/watch?v=Z1RJmh_OqeA',\n",
       " 'https://www.youtube.com/watch?v=SWrWjBqFhKk',\n",
       " 'https://m.youtube.com/watch?v=Z1QQRxt7MCQ',\n",
       " 'https://www.youtube.com/watch?v=QUT1VHiLmmI',\n",
       " 'https://www.youtube.com/watch?v=jLkBxS8ajQU',\n",
       " 'https://www.youtube.com/watch?v=tPYj3fFJGjk',\n",
       " 'https://www.youtube.com/watch?v=8dTpNajxaH0',\n",
       " 'https://www.youtube.com/watch?v=DIFaOkxy6TE',\n",
       " 'https://www.youtube.com/watch?v=A6Fy-Ao_JyU',\n",
       " 'https://www.youtube.com/watch?v=ra5kMCXO-6I',\n",
       " nan]"
      ]
     },
     "execution_count": 8,
     "metadata": {},
     "output_type": "execute_result"
    }
   ],
   "source": [
    "df2=pd.read_csv('./python_tutorial_links.txt', header=None)\n",
    "link_set=[]\n",
    "for link in df2:\n",
    "    link_set.append(df2[link][0])\n",
    "    # print(link)\n",
    "link_set\n",
    "\n"
   ]
  },
  {
   "cell_type": "code",
   "execution_count": null,
   "metadata": {},
   "outputs": [],
   "source": [
    "from googlesearch import search\n",
    "\n",
    "# Define the search query\n",
    "query = \"java Tutorial\"\n",
    "\n",
    "# Perform the Google search and retrieve the top 1000 links\n",
    "search_results = search(query, num=100, stop=2000, pause=2)\n",
    "\n",
    "# Define the file name to save the links\n",
    "file_name = \"java.txt\"\n",
    "\n",
    "# Write the links to the file separated by comma\n",
    "with open(file_name, \"w\") as file:\n",
    "    for idx, link in enumerate(search_results, start=1):\n",
    "        file.write(link)\n",
    "        if idx < 1000:  # Add comma except for the last link\n",
    "            file.write(',')\n"
   ]
  },
  {
   "cell_type": "code",
   "execution_count": 43,
   "metadata": {},
   "outputs": [],
   "source": [
    "\n",
    "def add_to_set(path,get_label):\n",
    "    res=set()\n",
    "    data=pd.read_json(path)\n",
    "    # print(data['link'])\n",
    "    for index,row in data.iterrows():\n",
    "        res.add(row[get_label])\n",
    "    return res\n",
    "# d3=add_to_set('./new_data/geeks_for_geeks_d3_41k.json','link')\n",
    "# d2=add_to_set('./new_data/geeks_for_geeks_depth2.json','url')\n",
    "# d5=add_to_set('./new_data/geeks_for_geeks_depth5.json','link')\n",
    "# d5n=add_to_set('./new_data/geeks_for_geeks_depth5_new.json','link')\n",
    "# print(len(d3),len(d2),len(d5),len(d5n))\n",
    "# d23=d3.union(d2)\n",
    "# d235=d23.union(d5)\n",
    "# d235n=d235.union(d5n)\n",
    "# len(d235n)"
   ]
  },
  {
   "cell_type": "code",
   "execution_count": 137,
   "metadata": {},
   "outputs": [
    {
     "name": "stdout",
     "output_type": "stream",
     "text": [
      "Potential error detected: not found\n",
      "SKIP\n"
     ]
    }
   ],
   "source": [
    "import requests\n",
    "\n",
    "url = \"https://www.javatpoint.com/python-tutorialpython-selective-keys-summation\"\n",
    "reqs = requests.get(url)\n",
    "\n",
    "def check_page_validity(reqs):\n",
    "    if not (200 <= reqs.status_code < 400):\n",
    "        print(f\"HTTP Error {reqs.status_code}: {url}\") \n",
    "        return False\n",
    "    else:\n",
    "        error_keywords = [\"error\", \"not found\", \"page not found\",\"invalid\",\"404\"]  # Customize based on your needs\n",
    "\n",
    "        for keyword in error_keywords:\n",
    "            if keyword in reqs.text.lower():\n",
    "                print(f\"Potential error detected: {keyword}\")\n",
    "                return False\n",
    "    return True\n",
    "\n",
    "if not check_page_validity(reqs):\n",
    "    print(\"SKIP\")"
   ]
  },
  {
   "cell_type": "code",
   "execution_count": 56,
   "metadata": {},
   "outputs": [
    {
     "name": "stdout",
     "output_type": "stream",
     "text": [
      "317472\n"
     ]
    }
   ],
   "source": [
    "import pandas as pd\n",
    "import pandas as pd\n",
    "import os\n",
    "\n",
    "# Path to the folder containing the JSON files\n",
    "folder_path = \"files_bot\"\n",
    "\n",
    "# Get a list of all JSON files in the folder\n",
    "json_files = [file for file in os.listdir(folder_path) if file.endswith('.json')]\n",
    "\n",
    "# Initialize an empty list to store dataframes\n",
    "dfs = []\n",
    "\n",
    "# Iterate over each JSON file\n",
    "for file in json_files:\n",
    "    # Read the JSON file into a pandas dataframe\n",
    "    df = pd.read_json(os.path.join(folder_path, file))\n",
    "    \n",
    "    # Append the dataframe to the list\n",
    "    dfs.append(df)\n",
    "\n",
    "# Concatenate all dataframes in the list into a single dataframe\n",
    "combined_df = pd.concat(dfs, ignore_index=True)\n",
    "\n",
    "# Print the combined dataframe\n",
    "print(len(combined_df))"
   ]
  },
  {
   "cell_type": "code",
   "execution_count": 23,
   "metadata": {},
   "outputs": [
    {
     "name": "stdout",
     "output_type": "stream",
     "text": [
      "Time difference in seconds: 0.0\n"
     ]
    }
   ],
   "source": [
    "from datetime import datetime\n",
    "\n",
    "\n",
    "# Assuming you have two datetime objects\n",
    "start_time = datetime.now() \n",
    "\n",
    "end_time = datetime.now() \n",
    "\n",
    "# Calculate the time difference\n",
    "time_diff = (end_time - start_time).total_seconds()\n",
    "\n",
    "print(\"Time difference in seconds:\", time_diff)"
   ]
  },
  {
   "cell_type": "code",
   "execution_count": 13,
   "metadata": {},
   "outputs": [
    {
     "name": "stdout",
     "output_type": "stream",
     "text": [
      "34\n"
     ]
    }
   ],
   "source": [
    "import pandas as pd\n",
    "import os\n",
    "\n",
    "# Path to the folder containing the JSON files\n",
    "folder_path = \"files_bot\"\n",
    "\n",
    "# Get a list of all JSON files starting with \"aaaaa_\" in the folder\n",
    "json_files = [file for file in os.listdir(folder_path) if file.endswith('.json') and file.startswith('aaaaaaa_')]\n",
    "\n",
    "# Initialize an empty list to store dataframes\n",
    "dfs = []\n",
    "\n",
    "# Iterate over each JSON file\n",
    "for file in json_files:\n",
    "    # Read the JSON file into a pandas dataframe\n",
    "    df = pd.read_json(os.path.join(folder_path, file))\n",
    "    \n",
    "    # Append the dataframe to the list\n",
    "    dfs.append(df)\n",
    "\n",
    "# Concatenate all dataframes in the list into a single dataframe\n",
    "combined_df = pd.concat(dfs, ignore_index=True)\n",
    "\n",
    "# Print the combined dataframe\n",
    "print(len(combined_df))\n",
    "combined_df.head()\n",
    "array=[]\n",
    "for link in combined_df['link']:\n",
    "    array.append(link)\n",
    "# array"
   ]
  },
  {
   "cell_type": "code",
   "execution_count": 47,
   "metadata": {},
   "outputs": [
    {
     "data": {
      "text/plain": [
       "25405"
      ]
     },
     "execution_count": 47,
     "metadata": {},
     "output_type": "execute_result"
    }
   ],
   "source": [
    "# save it\n",
    "array=set()\n",
    "for link in combined_df['link']:\n",
    "    array.add(link)\n",
    "len(array)"
   ]
  },
  {
   "cell_type": "code",
   "execution_count": 57,
   "metadata": {},
   "outputs": [
    {
     "data": {
      "text/plain": [
       "105834"
      ]
     },
     "execution_count": 57,
     "metadata": {},
     "output_type": "execute_result"
    }
   ],
   "source": [
    "array2=set()\n",
    "for link in combined_df['link']:\n",
    "    array2.add(link)\n",
    "array.update(array2)\n",
    "len(array)"
   ]
  },
  {
   "cell_type": "code",
   "execution_count": 42,
   "metadata": {},
   "outputs": [
    {
     "data": {
      "text/plain": [
       "105834"
      ]
     },
     "execution_count": 42,
     "metadata": {},
     "output_type": "execute_result"
    }
   ],
   "source": [
    "len(array)"
   ]
  },
  {
   "cell_type": "code",
   "execution_count": 58,
   "metadata": {},
   "outputs": [
    {
     "name": "stdout",
     "output_type": "stream",
     "text": [
      "Error storing JSON content: [WinError 3] The system cannot find the path specified: ''\n"
     ]
    }
   ],
   "source": [
    "import json\n",
    "def store_json(content, path, file_name):\n",
    "    def add_url_tag(myset):\n",
    "        # mylist=list(myset)\n",
    "        save=[]\n",
    "        for link in myset:\n",
    "            save.append({'link':link})\n",
    "        return save\n",
    "    content=add_url_tag(content)\n",
    "    try:\n",
    "        # Ensure the specified directory exists\n",
    "        os.makedirs(path, exist_ok=True)\n",
    "\n",
    "        # Store the content in a JSON file\n",
    "        with open(os.path.join(path, file_name), 'w') as json_file:\n",
    "            json.dump(content, json_file)\n",
    "\n",
    "        print(f'The content has been stored in the JSON file: {file_name}')\n",
    "    except Exception as e:\n",
    "        print(f'Error storing JSON content: {e}')\n",
    "store_json(array2,'','')"
   ]
  }
 ],
 "metadata": {
  "kernelspec": {
   "display_name": "search_engine",
   "language": "python",
   "name": "python3"
  },
  "language_info": {
   "codemirror_mode": {
    "name": "ipython",
    "version": 3
   },
   "file_extension": ".py",
   "mimetype": "text/x-python",
   "name": "python",
   "nbconvert_exporter": "python",
   "pygments_lexer": "ipython3",
   "version": "3.12.2"
  }
 },
 "nbformat": 4,
 "nbformat_minor": 2
}
