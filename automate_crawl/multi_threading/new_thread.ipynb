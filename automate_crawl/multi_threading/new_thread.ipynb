{
 "cells": [
  {
   "cell_type": "code",
   "execution_count": 1,
   "metadata": {},
   "outputs": [],
   "source": [
    "import threading\n",
    "from time import sleep\n",
    "from datetime import datetime\n",
    "import random"
   ]
  },
  {
   "cell_type": "code",
   "execution_count": 2,
   "metadata": {},
   "outputs": [],
   "source": [
    "class MyCustomThread(threading.Thread):\n",
    "    thread_id_counter = 1  # Class variable to generate unique thread IDs\n",
    "\n",
    "    def __init__(self):\n",
    "        super(MyCustomThread, self).__init__()\n",
    "        self.val=0\n",
    "        self.is_running=True\n",
    "        self.thread_id = MyCustomThread.thread_id_counter\n",
    "        MyCustomThread.thread_id_counter += 1\n",
    "    def initialize(self, val):\n",
    "        self.val=val\n",
    "    def run(self):\n",
    "        timestamp1 = datetime.now()\n",
    "        print(f\"Thread : {self.thread_id}  | start \",\"  task \",self.val)\n",
    "        #PROGRAME\n",
    "        random_value = random.randint(0, 5)\n",
    "        sleep(random_value)\n",
    "        time_difference = (datetime.now() - timestamp1).total_seconds()\n",
    "        print(f\"Thread : {self.thread_id}  | end\",self.val,time_difference)\n"
   ]
  },
  {
   "cell_type": "code",
   "execution_count": 9,
   "metadata": {},
   "outputs": [],
   "source": [
    "class controller:\n",
    "    def __init__(self) -> None:\n",
    "        self.number,self.task_count,self.done,self.threads_set=0,0,0,[]\n",
    "    def create_threads(self,number):\n",
    "        self.number=number\n",
    "        new_thread=[]\n",
    "        create_new=min((self.number-len(self.threads_set)),(self.task_count-self.done))\n",
    "        for i in range(create_new): # creating remaining threads\n",
    "            self.threads_set.append(MyCustomThread())                  # total - active\n",
    "            new_thread.append(MyCustomThread())\n",
    "        if create_new:\n",
    "            print(\"                 created : \",create_new)\n",
    "        return new_thread\n",
    "\n",
    "    def assign_bulk_task(self,total_task_array,no_threds):\n",
    "        self.task_count=len(total_task_array)\n",
    "        threds=self.create_threads(no_threds)\n",
    "        # handle threds here\n",
    "        task=0\n",
    "        while task<self.task_count:\n",
    "            for th in threds:\n",
    "                if not task<self.task_count:continue\n",
    "                th.initialize(total_task_array[task])\n",
    "                th.start()\n",
    "                task+=1\n",
    "            threds=self.replace_dead_threads()\n",
    "    def replace_dead_threads(self): # clear max\n",
    "        for thread in self.threads_set:\n",
    "            if not thread.is_alive(): # if dead\n",
    "                self.threads_set.remove(thread)\n",
    "                self.done+=1\n",
    "                print(\"Done : \",self.done,\"/\",self.task_count)\n",
    "        return self.create_threads(self.number)\n",
    "\n",
    "        \n",
    "    "
   ]
  },
  {
   "cell_type": "code",
   "execution_count": 1,
   "metadata": {},
   "outputs": [
    {
     "name": "stdout",
     "output_type": "stream",
     "text": [
      "Thread : 2  | start    your function (1)\n",
      "me  1\n",
      "Thread : 4  | start    your function (2)\n",
      "me  2\n",
      "Thread : 6  | start    your function (3)\n",
      "me  3\n",
      "Done :  1 / 3\n",
      "Done :  2 / 3\n"
     ]
    },
    {
     "name": "stdout",
     "output_type": "stream",
     "text": [
      "Thread : 2  | ended in  1.002204 s   your function (1)\n",
      "Thread : 4  | ended in  2.000729 s   your function (2)\n",
      "Thread : 6  | ended in  3.001298 s   your function (3)\n"
     ]
    }
   ],
   "source": [
    "\n",
    "from thread import multi_threading_controller as mtc\n",
    "def tt(n):\n",
    "    import time\n",
    "    print(\"me \",n)\n",
    "    time.sleep(n)\n",
    "c=mtc(tt)\n",
    "c.strart_bulk_task([1,2,3],3)"
   ]
  }
 ],
 "metadata": {
  "kernelspec": {
   "display_name": "search_engine",
   "language": "python",
   "name": "python3"
  },
  "language_info": {
   "codemirror_mode": {
    "name": "ipython",
    "version": 3
   },
   "file_extension": ".py",
   "mimetype": "text/x-python",
   "name": "python",
   "nbconvert_exporter": "python",
   "pygments_lexer": "ipython3",
   "version": "3.12.2"
  }
 },
 "nbformat": 4,
 "nbformat_minor": 2
}
